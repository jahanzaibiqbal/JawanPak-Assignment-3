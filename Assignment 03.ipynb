{
 "cells": [
  {
   "cell_type": "code",
   "execution_count": 2,
   "metadata": {},
   "outputs": [
    {
     "name": "stdout",
     "output_type": "stream",
     "text": [
      "Twinkle, twinkle, little star\n",
      "\tHow I wonder what you are!\n",
      "\t\tUp above the world so high,\n",
      "\t\tLike a diamond in the sky.\n",
      "Twinkle, twinkle, little star,\n",
      "\tHow I wonder what you are\n"
     ]
    }
   ],
   "source": [
    "print(\"Twinkle, twinkle, little star\");\n",
    "print(\"\\tHow I wonder what you are!\");\n",
    "print(\"\\t\\tUp above the world so high,\");\n",
    "print(\"\\t\\tLike a diamond in the sky.\");\n",
    "print(\"Twinkle, twinkle, little star,\");\n",
    "print(\"\\tHow I wonder what you are\");"
   ]
  },
  {
   "cell_type": "code",
   "execution_count": 11,
   "metadata": {},
   "outputs": [
    {
     "name": "stdout",
     "output_type": "stream",
     "text": [
      "Version info.\n",
      "3.7.6 (default, Jan  8 2020, 20:23:39) [MSC v.1916 64 bit (AMD64)]\n"
     ]
    }
   ],
   "source": [
    "#Write a Python program to get the Python version you are using\n",
    "import sys\n",
    "print(\"Python Version\")\n",
    "print (sys.version)"
   ]
  },
  {
   "cell_type": "code",
   "execution_count": 24,
   "metadata": {},
   "outputs": [
    {
     "name": "stdout",
     "output_type": "stream",
     "text": [
      "Current date and time : \n",
      "2021-10-24 16:34:59\n"
     ]
    }
   ],
   "source": [
    "# Write a Python program to display the current date and time.\n",
    "import datetime\n",
    "now = datetime.datetime.now()\n",
    "print (\"Current date and time : \")\n",
    "print (now.strftime(\"%Y-%m-%d %H:%M:%S\"))"
   ]
  },
  {
   "cell_type": "code",
   "execution_count": 30,
   "metadata": {},
   "outputs": [
    {
     "name": "stdout",
     "output_type": "stream",
     "text": [
      "Input the value of radius3\n",
      "The area of circle is 28.278\n"
     ]
    }
   ],
   "source": [
    "#Write a Python program which accepts the radius of a circle from the user and compute the area.\n",
    "r=float(input(\"Input the value of radius\"));\n",
    "area=3.142*r*r;\n",
    "print(\"The area of circle is\",area);"
   ]
  },
  {
   "cell_type": "code",
   "execution_count": 71,
   "metadata": {},
   "outputs": [
    {
     "name": "stdout",
     "output_type": "stream",
     "text": [
      "Enter your first name jahanzaib\n",
      "Enter your last name iqbal\n",
      "Hello  iqbal jahanzaib\n"
     ]
    }
   ],
   "source": [
    "#Write a Python program which accepts the user's first and last name and print them in reverse order with a space between them.\n",
    "firstname=input(\"Enter your first name \");\n",
    "lastname=input(\"Enter your last name \");\n",
    "print (\"Hello  \" + lastname + \" \" + firstname);"
   ]
  },
  {
   "cell_type": "code",
   "execution_count": 34,
   "metadata": {},
   "outputs": [
    {
     "name": "stdout",
     "output_type": "stream",
     "text": [
      "Enter first Number: 2\n",
      "Enter Second Number: 4\n",
      "The subm is 6\n"
     ]
    }
   ],
   "source": [
    "#Write a python program which takes two inputs from user and print them addition\n",
    "input1=int(input(\"Enter first Number: \"));\n",
    "input2=int(input(\"Enter Second Number: \"));\n",
    "sum=input1+input2;\n",
    "print(\"The subm is\",sum);"
   ]
  },
  {
   "cell_type": "code",
   "execution_count": 35,
   "metadata": {},
   "outputs": [
    {
     "name": "stdout",
     "output_type": "stream",
     "text": [
      "Enter Marks of English45\n",
      "Enter Marks of Urdu55\n",
      "Enter Marks of Islamiat66\n",
      "Enter Marks of Math75\n",
      "Enter Marks of physics22\n",
      "Grade C\n"
     ]
    }
   ],
   "source": [
    "#Write a program which takes 5 inputs from user for different subject’s marks, total it and generate mark sheet using grades ?\n",
    "eng = float(input(\"Enter Marks of English: \"));\n",
    "urdu = float(input(\"Enter Marks of Urdu: \"));\n",
    "isl = float(input(\"Enter Marks of Islamiat: \"));\n",
    "math = float(input(\"Enter Marks of Math: \"));\n",
    "physics = float(input(\"Enter Marks of physics: \"));\n",
    "\n",
    "Total_Marks = 500; \n",
    "\n",
    "Obt_Marks = eng+urdu+isl+math+physics;\n",
    "\n",
    "percentage = (Obt_Marks/Total_Marks)*100;\n",
    "if percentage < 100 and percentage >= 80:\n",
    "    print(\"Grade A+\");\n",
    "elif percentage < 80 and percentage >= 70:\n",
    "    print(\"Grade A\");\n",
    "elif percentage < 70 and percentage >= 60:\n",
    "    print(\"Grade B\");\n",
    "elif percentage < 60 and percentage >= 50:\n",
    "    print(\"Grade C\");\n",
    "elif percentage < 50 and percentage >= 40:\n",
    "    print(\"Grade D\");\n",
    "elif percentage < 40 and percentage >= 30:\n",
    "    print(\"Grade E\");\n",
    "elif percentage < 30:\n",
    "    print(\" Fail\");\n",
    "else:\n",
    "    print(\"Error\");"
   ]
  },
  {
   "cell_type": "code",
   "execution_count": 42,
   "metadata": {},
   "outputs": [
    {
     "name": "stdout",
     "output_type": "stream",
     "text": [
      "Enter a Number: 3\n",
      "It is a Odd Number\n"
     ]
    }
   ],
   "source": [
    "#Write a program which take input from user and identify that the given number is even or odd?\n",
    "var=int(input(\"Enter a Number: \"));\n",
    "if var%2==1:\n",
    "    print(\"It is a Odd Number\");\n",
    "elif var%2==0:\n",
    "    print(\"It is an Even Number\");\n",
    "else:\n",
    "    Print(\"Error\");"
   ]
  },
  {
   "cell_type": "code",
   "execution_count": 47,
   "metadata": {},
   "outputs": [
    {
     "name": "stdout",
     "output_type": "stream",
     "text": [
      "The length of array is  10\n"
     ]
    }
   ],
   "source": [
    "#Write a program which print the length of the list?\n",
    "arr=[2,4,6,8,10,12,14,16,18,20];\n",
    "size=len(arr);\n",
    "print(\"The length of array is \", size);"
   ]
  },
  {
   "cell_type": "code",
   "execution_count": 60,
   "metadata": {},
   "outputs": [
    {
     "name": "stdout",
     "output_type": "stream",
     "text": [
      "Sum of all elements in given list:  110\n"
     ]
    }
   ],
   "source": [
    "#Write a Python program to sum all the numeric items in a list?\n",
    "arr=[2,4,6,8,10,12,14,16,18,20];\n",
    "size=len(arr);\n",
    "total=0;\n",
    "for x in range(0,size):\n",
    "    total = total + arr[x];\n",
    "print(\"Sum of all elements in given list: \", total);"
   ]
  },
  {
   "cell_type": "code",
   "execution_count": 56,
   "metadata": {},
   "outputs": [
    {
     "name": "stdout",
     "output_type": "stream",
     "text": [
      "Largest Number is: 20\n"
     ]
    }
   ],
   "source": [
    "#Write a Python program to get the largest number from a numeric list.\n",
    "arr=[2,4,6,8,10,12,14,16,18,20];\n",
    "print(\"Largest Number is:\", max(arr));"
   ]
  },
  {
   "cell_type": "code",
   "execution_count": 67,
   "metadata": {},
   "outputs": [
    {
     "name": "stdout",
     "output_type": "stream",
     "text": [
      "Sum of all elements in given list:  20\n"
     ]
    }
   ],
   "source": [
    "#Write a program that prints out all the elements of the list that are less than 5.\n",
    "\n",
    "arr=[1, 1, 2, 3, 5, 8, 13, 21, 34, 55, 89];\n",
    "size=len(arr);\n",
    "total=0;\n",
    "for x in range(0,size):\n",
    "    if x>5:\n",
    "        continue;\n",
    "    total = total + arr[x];\n",
    "\n",
    "print(\"Sum of all elements in given list: \", total);"
   ]
  },
  {
   "cell_type": "code",
   "execution_count": null,
   "metadata": {},
   "outputs": [],
   "source": []
  },
  {
   "cell_type": "code",
   "execution_count": null,
   "metadata": {},
   "outputs": [],
   "source": []
  }
 ],
 "metadata": {
  "kernelspec": {
   "display_name": "Python 3",
   "language": "python",
   "name": "python3"
  },
  "language_info": {
   "codemirror_mode": {
    "name": "ipython",
    "version": 3
   },
   "file_extension": ".py",
   "mimetype": "text/x-python",
   "name": "python",
   "nbconvert_exporter": "python",
   "pygments_lexer": "ipython3",
   "version": "3.7.6"
  }
 },
 "nbformat": 4,
 "nbformat_minor": 4
}
